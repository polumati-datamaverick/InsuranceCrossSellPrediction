{
 "cells": [
  {
   "cell_type": "markdown",
   "metadata": {},
   "source": [
    "Summary:\n",
    "   This Model is for an Insurance company sales team. The team is given leads from their existing customer base, predominantly\n",
    "   health insurance customers. With out leads prioritization, they have to contact all the leads which is in-effcient. With \n",
    "   this model, we were able to reduce the contactable leads by 50% with out leaving any potential conversions.\n",
    "   \n",
    "    We developed a lead prioritization model.\n",
    "    \n",
    "    In test data, we have total 83990 leads. With out the help of prioritization model, the sales team will have to \n",
    "    contact all these leads with a conversion rate of 13.6 % conversion rate.\n",
    "    \n",
    "    With the new prioritization model the conversion rate incresed by 100% to 26%.\n",
    "    This will weed away 50% of leads form the sales leads."
   ]
  },
  {
   "cell_type": "code",
   "execution_count": 106,
   "metadata": {},
   "outputs": [],
   "source": [
    "import pandas as pd\n",
    "import numpy as np \n",
    "import matplotlib.pyplot as plt\n",
    "%matplotlib inline\n",
    "from sklearn.model_selection import train_test_split, GridSearchCV\n",
    "from sklearn.preprocessing import QuantileTransformer\n",
    "from sklearn.metrics import roc_auc_score, confusion_matrix, precision_recall_curve, ConfusionMatrixDisplay, \\\n",
    "precision_score,recall_score, roc_curve, RocCurveDisplay\n",
    "from sklearn.linear_model import LogisticRegression"
   ]
  },
  {
   "cell_type": "code",
   "execution_count": 107,
   "metadata": {},
   "outputs": [],
   "source": [
    "df = pd.read_csv('./train.csv')"
   ]
  },
  {
   "cell_type": "code",
   "execution_count": 108,
   "metadata": {},
   "outputs": [
    {
     "data": {
      "text/html": [
       "<div>\n",
       "<style scoped>\n",
       "    .dataframe tbody tr th:only-of-type {\n",
       "        vertical-align: middle;\n",
       "    }\n",
       "\n",
       "    .dataframe tbody tr th {\n",
       "        vertical-align: top;\n",
       "    }\n",
       "\n",
       "    .dataframe thead th {\n",
       "        text-align: right;\n",
       "    }\n",
       "</style>\n",
       "<table border=\"1\" class=\"dataframe\">\n",
       "  <thead>\n",
       "    <tr style=\"text-align: right;\">\n",
       "      <th></th>\n",
       "      <th>id</th>\n",
       "      <th>Gender</th>\n",
       "      <th>Age</th>\n",
       "      <th>Driving_License</th>\n",
       "      <th>Region_Code</th>\n",
       "      <th>Previously_Insured</th>\n",
       "      <th>Vehicle_Age</th>\n",
       "      <th>Vehicle_Damage</th>\n",
       "      <th>Annual_Premium</th>\n",
       "      <th>Policy_Sales_Channel</th>\n",
       "      <th>Vintage</th>\n",
       "      <th>Response</th>\n",
       "    </tr>\n",
       "  </thead>\n",
       "  <tbody>\n",
       "    <tr>\n",
       "      <th>0</th>\n",
       "      <td>1</td>\n",
       "      <td>Male</td>\n",
       "      <td>44</td>\n",
       "      <td>1</td>\n",
       "      <td>28.0</td>\n",
       "      <td>0</td>\n",
       "      <td>&gt; 2 Years</td>\n",
       "      <td>Yes</td>\n",
       "      <td>40454.0</td>\n",
       "      <td>26.0</td>\n",
       "      <td>217</td>\n",
       "      <td>1</td>\n",
       "    </tr>\n",
       "    <tr>\n",
       "      <th>1</th>\n",
       "      <td>2</td>\n",
       "      <td>Male</td>\n",
       "      <td>76</td>\n",
       "      <td>1</td>\n",
       "      <td>3.0</td>\n",
       "      <td>0</td>\n",
       "      <td>1-2 Year</td>\n",
       "      <td>No</td>\n",
       "      <td>33536.0</td>\n",
       "      <td>26.0</td>\n",
       "      <td>183</td>\n",
       "      <td>0</td>\n",
       "    </tr>\n",
       "    <tr>\n",
       "      <th>2</th>\n",
       "      <td>3</td>\n",
       "      <td>Male</td>\n",
       "      <td>47</td>\n",
       "      <td>1</td>\n",
       "      <td>28.0</td>\n",
       "      <td>0</td>\n",
       "      <td>&gt; 2 Years</td>\n",
       "      <td>Yes</td>\n",
       "      <td>38294.0</td>\n",
       "      <td>26.0</td>\n",
       "      <td>27</td>\n",
       "      <td>1</td>\n",
       "    </tr>\n",
       "    <tr>\n",
       "      <th>3</th>\n",
       "      <td>4</td>\n",
       "      <td>Male</td>\n",
       "      <td>21</td>\n",
       "      <td>1</td>\n",
       "      <td>11.0</td>\n",
       "      <td>1</td>\n",
       "      <td>&lt; 1 Year</td>\n",
       "      <td>No</td>\n",
       "      <td>28619.0</td>\n",
       "      <td>152.0</td>\n",
       "      <td>203</td>\n",
       "      <td>0</td>\n",
       "    </tr>\n",
       "    <tr>\n",
       "      <th>4</th>\n",
       "      <td>5</td>\n",
       "      <td>Female</td>\n",
       "      <td>29</td>\n",
       "      <td>1</td>\n",
       "      <td>41.0</td>\n",
       "      <td>1</td>\n",
       "      <td>&lt; 1 Year</td>\n",
       "      <td>No</td>\n",
       "      <td>27496.0</td>\n",
       "      <td>152.0</td>\n",
       "      <td>39</td>\n",
       "      <td>0</td>\n",
       "    </tr>\n",
       "    <tr>\n",
       "      <th>5</th>\n",
       "      <td>6</td>\n",
       "      <td>Female</td>\n",
       "      <td>24</td>\n",
       "      <td>1</td>\n",
       "      <td>33.0</td>\n",
       "      <td>0</td>\n",
       "      <td>&lt; 1 Year</td>\n",
       "      <td>Yes</td>\n",
       "      <td>2630.0</td>\n",
       "      <td>160.0</td>\n",
       "      <td>176</td>\n",
       "      <td>0</td>\n",
       "    </tr>\n",
       "    <tr>\n",
       "      <th>6</th>\n",
       "      <td>7</td>\n",
       "      <td>Male</td>\n",
       "      <td>23</td>\n",
       "      <td>1</td>\n",
       "      <td>11.0</td>\n",
       "      <td>0</td>\n",
       "      <td>&lt; 1 Year</td>\n",
       "      <td>Yes</td>\n",
       "      <td>23367.0</td>\n",
       "      <td>152.0</td>\n",
       "      <td>249</td>\n",
       "      <td>0</td>\n",
       "    </tr>\n",
       "    <tr>\n",
       "      <th>7</th>\n",
       "      <td>8</td>\n",
       "      <td>Female</td>\n",
       "      <td>56</td>\n",
       "      <td>1</td>\n",
       "      <td>28.0</td>\n",
       "      <td>0</td>\n",
       "      <td>1-2 Year</td>\n",
       "      <td>Yes</td>\n",
       "      <td>32031.0</td>\n",
       "      <td>26.0</td>\n",
       "      <td>72</td>\n",
       "      <td>1</td>\n",
       "    </tr>\n",
       "    <tr>\n",
       "      <th>8</th>\n",
       "      <td>9</td>\n",
       "      <td>Female</td>\n",
       "      <td>24</td>\n",
       "      <td>1</td>\n",
       "      <td>3.0</td>\n",
       "      <td>1</td>\n",
       "      <td>&lt; 1 Year</td>\n",
       "      <td>No</td>\n",
       "      <td>27619.0</td>\n",
       "      <td>152.0</td>\n",
       "      <td>28</td>\n",
       "      <td>0</td>\n",
       "    </tr>\n",
       "    <tr>\n",
       "      <th>9</th>\n",
       "      <td>10</td>\n",
       "      <td>Female</td>\n",
       "      <td>32</td>\n",
       "      <td>1</td>\n",
       "      <td>6.0</td>\n",
       "      <td>1</td>\n",
       "      <td>&lt; 1 Year</td>\n",
       "      <td>No</td>\n",
       "      <td>28771.0</td>\n",
       "      <td>152.0</td>\n",
       "      <td>80</td>\n",
       "      <td>0</td>\n",
       "    </tr>\n",
       "  </tbody>\n",
       "</table>\n",
       "</div>"
      ],
      "text/plain": [
       "   id  Gender  Age  Driving_License  Region_Code  Previously_Insured  \\\n",
       "0   1    Male   44                1         28.0                   0   \n",
       "1   2    Male   76                1          3.0                   0   \n",
       "2   3    Male   47                1         28.0                   0   \n",
       "3   4    Male   21                1         11.0                   1   \n",
       "4   5  Female   29                1         41.0                   1   \n",
       "5   6  Female   24                1         33.0                   0   \n",
       "6   7    Male   23                1         11.0                   0   \n",
       "7   8  Female   56                1         28.0                   0   \n",
       "8   9  Female   24                1          3.0                   1   \n",
       "9  10  Female   32                1          6.0                   1   \n",
       "\n",
       "  Vehicle_Age Vehicle_Damage  Annual_Premium  Policy_Sales_Channel  Vintage  \\\n",
       "0   > 2 Years            Yes         40454.0                  26.0      217   \n",
       "1    1-2 Year             No         33536.0                  26.0      183   \n",
       "2   > 2 Years            Yes         38294.0                  26.0       27   \n",
       "3    < 1 Year             No         28619.0                 152.0      203   \n",
       "4    < 1 Year             No         27496.0                 152.0       39   \n",
       "5    < 1 Year            Yes          2630.0                 160.0      176   \n",
       "6    < 1 Year            Yes         23367.0                 152.0      249   \n",
       "7    1-2 Year            Yes         32031.0                  26.0       72   \n",
       "8    < 1 Year             No         27619.0                 152.0       28   \n",
       "9    < 1 Year             No         28771.0                 152.0       80   \n",
       "\n",
       "   Response  \n",
       "0         1  \n",
       "1         0  \n",
       "2         1  \n",
       "3         0  \n",
       "4         0  \n",
       "5         0  \n",
       "6         0  \n",
       "7         1  \n",
       "8         0  \n",
       "9         0  "
      ]
     },
     "execution_count": 108,
     "metadata": {},
     "output_type": "execute_result"
    }
   ],
   "source": [
    "df.head(10)"
   ]
  },
  {
   "cell_type": "code",
   "execution_count": 109,
   "metadata": {},
   "outputs": [],
   "source": [
    "df.drop(columns=['id'],inplace=True)"
   ]
  },
  {
   "cell_type": "code",
   "execution_count": 110,
   "metadata": {},
   "outputs": [],
   "source": [
    "list_predictors = list(df.columns)\n",
    "list_predictors.remove('Response')"
   ]
  },
  {
   "cell_type": "markdown",
   "metadata": {},
   "source": [
    "### Data Processing "
   ]
  },
  {
   "cell_type": "code",
   "execution_count": 111,
   "metadata": {},
   "outputs": [],
   "source": [
    "def extract_numeric_ordinals(data_frame,columns):\n",
    "    numeric_columns = []\n",
    "    ordinal_columns = []\n",
    "    for column in columns:\n",
    "        if df[column].dtype !='O':\n",
    "            if len(list(df[column].unique()))/df.shape[0] < 0.01:\n",
    "                ordinal_columns.append(column)\n",
    "            else:\n",
    "                numeric_columns.append(column)\n",
    "    return(numeric_columns, ordinal_columns)"
   ]
  },
  {
   "cell_type": "code",
   "execution_count": 112,
   "metadata": {},
   "outputs": [],
   "source": [
    "def extract_categoricals(data_frame,columns):\n",
    "    categorical_columns = []\n",
    "    for column in columns:\n",
    "        if df[column].dtype == 'O':\n",
    "            categorical_columns.append(column)\n",
    "    return(categorical_columns)"
   ]
  },
  {
   "cell_type": "code",
   "execution_count": 113,
   "metadata": {},
   "outputs": [],
   "source": [
    "def categorical_ordinal_convert_to_ranked_numerical(dataframe,ordinal_columns, categorical_columns,target):\n",
    "    complete_list = ordinal_columns+categorical_columns\n",
    "    for column in complete_list:\n",
    "        S = pd.DataFrame(dataframe.groupby(column)[target].mean().sort_values(ascending=False))\n",
    "        S.reset_index(inplace=True)\n",
    "        S['rank'] = S[target].rank(pct=True)\n",
    "        map_dict = dict(zip(list(S[column]), list(S['rank'])))        \n",
    "        df[column+'ranked_ordinal'] = df[column].map(map_dict)\n",
    "        df.drop(columns=[column],inplace=True)\n",
    "    return(dataframe)"
   ]
  },
  {
   "cell_type": "code",
   "execution_count": 114,
   "metadata": {},
   "outputs": [],
   "source": [
    "numeric_columns, ordinal_columns = extract_numeric_ordinals(df,list_predictors)"
   ]
  },
  {
   "cell_type": "code",
   "execution_count": 115,
   "metadata": {},
   "outputs": [],
   "source": [
    "categorical_columns = extract_categoricals(df,list(df.columns))"
   ]
  },
  {
   "cell_type": "code",
   "execution_count": 116,
   "metadata": {},
   "outputs": [],
   "source": [
    "dataframe_processed = categorical_ordinal_convert_to_ranked_numerical(df, ordinal_columns, categorical_columns,'Response')"
   ]
  },
  {
   "cell_type": "code",
   "execution_count": 117,
   "metadata": {},
   "outputs": [
    {
     "data": {
      "text/plain": [
       "['Age',\n",
       " 'Driving_License',\n",
       " 'Region_Code',\n",
       " 'Previously_Insured',\n",
       " 'Policy_Sales_Channel',\n",
       " 'Vintage']"
      ]
     },
     "execution_count": 117,
     "metadata": {},
     "output_type": "execute_result"
    }
   ],
   "source": [
    "ordinal_columns"
   ]
  },
  {
   "cell_type": "code",
   "execution_count": 118,
   "metadata": {},
   "outputs": [
    {
     "data": {
      "text/html": [
       "<div>\n",
       "<style scoped>\n",
       "    .dataframe tbody tr th:only-of-type {\n",
       "        vertical-align: middle;\n",
       "    }\n",
       "\n",
       "    .dataframe tbody tr th {\n",
       "        vertical-align: top;\n",
       "    }\n",
       "\n",
       "    .dataframe thead th {\n",
       "        text-align: right;\n",
       "    }\n",
       "</style>\n",
       "<table border=\"1\" class=\"dataframe\">\n",
       "  <thead>\n",
       "    <tr style=\"text-align: right;\">\n",
       "      <th></th>\n",
       "      <th>Annual_Premium</th>\n",
       "      <th>Response</th>\n",
       "      <th>Ageranked_ordinal</th>\n",
       "      <th>Driving_Licenseranked_ordinal</th>\n",
       "      <th>Region_Coderanked_ordinal</th>\n",
       "      <th>Previously_Insuredranked_ordinal</th>\n",
       "      <th>Policy_Sales_Channelranked_ordinal</th>\n",
       "      <th>Vintageranked_ordinal</th>\n",
       "      <th>Genderranked_ordinal</th>\n",
       "      <th>Vehicle_Ageranked_ordinal</th>\n",
       "      <th>Vehicle_Damageranked_ordinal</th>\n",
       "    </tr>\n",
       "  </thead>\n",
       "  <tbody>\n",
       "    <tr>\n",
       "      <th>0</th>\n",
       "      <td>40454.0</td>\n",
       "      <td>1</td>\n",
       "      <td>0.909091</td>\n",
       "      <td>1.0</td>\n",
       "      <td>0.981132</td>\n",
       "      <td>1.0</td>\n",
       "      <td>0.812903</td>\n",
       "      <td>0.179310</td>\n",
       "      <td>1.0</td>\n",
       "      <td>1.000000</td>\n",
       "      <td>1.0</td>\n",
       "    </tr>\n",
       "    <tr>\n",
       "      <th>1</th>\n",
       "      <td>33536.0</td>\n",
       "      <td>0</td>\n",
       "      <td>0.303030</td>\n",
       "      <td>1.0</td>\n",
       "      <td>0.830189</td>\n",
       "      <td>1.0</td>\n",
       "      <td>0.812903</td>\n",
       "      <td>0.903448</td>\n",
       "      <td>1.0</td>\n",
       "      <td>0.666667</td>\n",
       "      <td>0.5</td>\n",
       "    </tr>\n",
       "    <tr>\n",
       "      <th>2</th>\n",
       "      <td>38294.0</td>\n",
       "      <td>1</td>\n",
       "      <td>0.939394</td>\n",
       "      <td>1.0</td>\n",
       "      <td>0.981132</td>\n",
       "      <td>1.0</td>\n",
       "      <td>0.812903</td>\n",
       "      <td>0.175862</td>\n",
       "      <td>1.0</td>\n",
       "      <td>1.000000</td>\n",
       "      <td>1.0</td>\n",
       "    </tr>\n",
       "    <tr>\n",
       "      <th>3</th>\n",
       "      <td>28619.0</td>\n",
       "      <td>0</td>\n",
       "      <td>0.075758</td>\n",
       "      <td>1.0</td>\n",
       "      <td>0.660377</td>\n",
       "      <td>0.5</td>\n",
       "      <td>0.245161</td>\n",
       "      <td>0.472414</td>\n",
       "      <td>1.0</td>\n",
       "      <td>0.333333</td>\n",
       "      <td>0.5</td>\n",
       "    </tr>\n",
       "    <tr>\n",
       "      <th>4</th>\n",
       "      <td>27496.0</td>\n",
       "      <td>0</td>\n",
       "      <td>0.439394</td>\n",
       "      <td>1.0</td>\n",
       "      <td>0.735849</td>\n",
       "      <td>0.5</td>\n",
       "      <td>0.245161</td>\n",
       "      <td>0.758621</td>\n",
       "      <td>0.5</td>\n",
       "      <td>0.333333</td>\n",
       "      <td>0.5</td>\n",
       "    </tr>\n",
       "    <tr>\n",
       "      <th>...</th>\n",
       "      <td>...</td>\n",
       "      <td>...</td>\n",
       "      <td>...</td>\n",
       "      <td>...</td>\n",
       "      <td>...</td>\n",
       "      <td>...</td>\n",
       "      <td>...</td>\n",
       "      <td>...</td>\n",
       "      <td>...</td>\n",
       "      <td>...</td>\n",
       "      <td>...</td>\n",
       "    </tr>\n",
       "    <tr>\n",
       "      <th>381104</th>\n",
       "      <td>30170.0</td>\n",
       "      <td>0</td>\n",
       "      <td>0.318182</td>\n",
       "      <td>1.0</td>\n",
       "      <td>0.226415</td>\n",
       "      <td>0.5</td>\n",
       "      <td>0.812903</td>\n",
       "      <td>0.055172</td>\n",
       "      <td>1.0</td>\n",
       "      <td>0.666667</td>\n",
       "      <td>0.5</td>\n",
       "    </tr>\n",
       "    <tr>\n",
       "      <th>381105</th>\n",
       "      <td>40016.0</td>\n",
       "      <td>0</td>\n",
       "      <td>0.515152</td>\n",
       "      <td>1.0</td>\n",
       "      <td>0.339623</td>\n",
       "      <td>0.5</td>\n",
       "      <td>0.245161</td>\n",
       "      <td>0.848276</td>\n",
       "      <td>1.0</td>\n",
       "      <td>0.333333</td>\n",
       "      <td>0.5</td>\n",
       "    </tr>\n",
       "    <tr>\n",
       "      <th>381106</th>\n",
       "      <td>35118.0</td>\n",
       "      <td>0</td>\n",
       "      <td>0.075758</td>\n",
       "      <td>1.0</td>\n",
       "      <td>0.245283</td>\n",
       "      <td>0.5</td>\n",
       "      <td>0.232258</td>\n",
       "      <td>0.065517</td>\n",
       "      <td>1.0</td>\n",
       "      <td>0.333333</td>\n",
       "      <td>0.5</td>\n",
       "    </tr>\n",
       "    <tr>\n",
       "      <th>381107</th>\n",
       "      <td>44617.0</td>\n",
       "      <td>0</td>\n",
       "      <td>0.393939</td>\n",
       "      <td>1.0</td>\n",
       "      <td>0.471698</td>\n",
       "      <td>1.0</td>\n",
       "      <td>0.774194</td>\n",
       "      <td>0.034483</td>\n",
       "      <td>0.5</td>\n",
       "      <td>1.000000</td>\n",
       "      <td>1.0</td>\n",
       "    </tr>\n",
       "    <tr>\n",
       "      <th>381108</th>\n",
       "      <td>41777.0</td>\n",
       "      <td>0</td>\n",
       "      <td>0.893939</td>\n",
       "      <td>1.0</td>\n",
       "      <td>0.754717</td>\n",
       "      <td>1.0</td>\n",
       "      <td>0.812903</td>\n",
       "      <td>0.765517</td>\n",
       "      <td>1.0</td>\n",
       "      <td>0.666667</td>\n",
       "      <td>0.5</td>\n",
       "    </tr>\n",
       "  </tbody>\n",
       "</table>\n",
       "<p>381109 rows × 11 columns</p>\n",
       "</div>"
      ],
      "text/plain": [
       "        Annual_Premium  Response  Ageranked_ordinal  \\\n",
       "0              40454.0         1           0.909091   \n",
       "1              33536.0         0           0.303030   \n",
       "2              38294.0         1           0.939394   \n",
       "3              28619.0         0           0.075758   \n",
       "4              27496.0         0           0.439394   \n",
       "...                ...       ...                ...   \n",
       "381104         30170.0         0           0.318182   \n",
       "381105         40016.0         0           0.515152   \n",
       "381106         35118.0         0           0.075758   \n",
       "381107         44617.0         0           0.393939   \n",
       "381108         41777.0         0           0.893939   \n",
       "\n",
       "        Driving_Licenseranked_ordinal  Region_Coderanked_ordinal  \\\n",
       "0                                 1.0                   0.981132   \n",
       "1                                 1.0                   0.830189   \n",
       "2                                 1.0                   0.981132   \n",
       "3                                 1.0                   0.660377   \n",
       "4                                 1.0                   0.735849   \n",
       "...                               ...                        ...   \n",
       "381104                            1.0                   0.226415   \n",
       "381105                            1.0                   0.339623   \n",
       "381106                            1.0                   0.245283   \n",
       "381107                            1.0                   0.471698   \n",
       "381108                            1.0                   0.754717   \n",
       "\n",
       "        Previously_Insuredranked_ordinal  Policy_Sales_Channelranked_ordinal  \\\n",
       "0                                    1.0                            0.812903   \n",
       "1                                    1.0                            0.812903   \n",
       "2                                    1.0                            0.812903   \n",
       "3                                    0.5                            0.245161   \n",
       "4                                    0.5                            0.245161   \n",
       "...                                  ...                                 ...   \n",
       "381104                               0.5                            0.812903   \n",
       "381105                               0.5                            0.245161   \n",
       "381106                               0.5                            0.232258   \n",
       "381107                               1.0                            0.774194   \n",
       "381108                               1.0                            0.812903   \n",
       "\n",
       "        Vintageranked_ordinal  Genderranked_ordinal  \\\n",
       "0                    0.179310                   1.0   \n",
       "1                    0.903448                   1.0   \n",
       "2                    0.175862                   1.0   \n",
       "3                    0.472414                   1.0   \n",
       "4                    0.758621                   0.5   \n",
       "...                       ...                   ...   \n",
       "381104               0.055172                   1.0   \n",
       "381105               0.848276                   1.0   \n",
       "381106               0.065517                   1.0   \n",
       "381107               0.034483                   0.5   \n",
       "381108               0.765517                   1.0   \n",
       "\n",
       "        Vehicle_Ageranked_ordinal  Vehicle_Damageranked_ordinal  \n",
       "0                        1.000000                           1.0  \n",
       "1                        0.666667                           0.5  \n",
       "2                        1.000000                           1.0  \n",
       "3                        0.333333                           0.5  \n",
       "4                        0.333333                           0.5  \n",
       "...                           ...                           ...  \n",
       "381104                   0.666667                           0.5  \n",
       "381105                   0.333333                           0.5  \n",
       "381106                   0.333333                           0.5  \n",
       "381107                   1.000000                           1.0  \n",
       "381108                   0.666667                           0.5  \n",
       "\n",
       "[381109 rows x 11 columns]"
      ]
     },
     "execution_count": 118,
     "metadata": {},
     "output_type": "execute_result"
    }
   ],
   "source": [
    "dataframe_processed"
   ]
  },
  {
   "cell_type": "markdown",
   "metadata": {},
   "source": [
    "### Statistical Preprocessing"
   ]
  },
  {
   "cell_type": "code",
   "execution_count": 119,
   "metadata": {},
   "outputs": [],
   "source": [
    "list_predictors = list(dataframe_processed.columns)\n",
    "list_predictors.remove('Response')"
   ]
  },
  {
   "cell_type": "code",
   "execution_count": 120,
   "metadata": {},
   "outputs": [],
   "source": [
    "X_predictors = df[list_predictors].to_numpy()\n",
    "Y_response = df['Response'].to_numpy()"
   ]
  },
  {
   "cell_type": "code",
   "execution_count": 121,
   "metadata": {},
   "outputs": [],
   "source": [
    "quantile_transformer = QuantileTransformer()\n",
    "quantile_transformer.fit(X_predictors)\n",
    "X_predictors_transform = quantile_transformer.transform(X_predictors)"
   ]
  },
  {
   "cell_type": "code",
   "execution_count": 122,
   "metadata": {},
   "outputs": [],
   "source": [
    "X_train, X_test, Y_train , Y_test = train_test_split(X_predictors_transform, Y_response, \n",
    "                                                    stratify=Y_response, test_size=0.25, \n",
    "                                                    random_state = 42)"
   ]
  },
  {
   "cell_type": "markdown",
   "metadata": {},
   "source": [
    "### Logistic Regression Model"
   ]
  },
  {
   "cell_type": "code",
   "execution_count": 123,
   "metadata": {},
   "outputs": [
    {
     "data": {
      "text/plain": [
       "GridSearchCV(cv=5, estimator=LogisticRegression(),\n",
       "             param_grid={'C': [0.1, 0.2, 0.3, 0.4, 0.5, 0.6, 0.7, 0.8, 0.9, 1]},\n",
       "             scoring='roc_auc')"
      ]
     },
     "execution_count": 123,
     "metadata": {},
     "output_type": "execute_result"
    }
   ],
   "source": [
    "LogisticModel = LogisticRegression()\n",
    "C_grid=[0.1,0.2,0.3,0.4,0.5,0.6,0.7,0.8,0.9,1]\n",
    "GridSearchModel = GridSearchCV(estimator=LogisticModel, param_grid={'C':C_grid}, \n",
    "                                                        scoring='roc_auc',cv =5 ) \n",
    "GridSearchModel.fit(X_train, Y_train)"
   ]
  },
  {
   "cell_type": "code",
   "execution_count": 124,
   "metadata": {},
   "outputs": [
    {
     "name": "stdout",
     "output_type": "stream",
     "text": [
      " The best training score:0.84661 for the model is available at param value:1.00\n"
     ]
    }
   ],
   "source": [
    "print(\" The best training score:{:.5f} for the model is available at param value:{:.2f}\".\\\n",
    "                                                      format(GridSearchModel.best_score_, GridSearchModel.best_params_['C']))"
   ]
  },
  {
   "cell_type": "code",
   "execution_count": 125,
   "metadata": {},
   "outputs": [
    {
     "name": "stdout",
     "output_type": "stream",
     "text": [
      " The Testscore:0.84888 \n"
     ]
    }
   ],
   "source": [
    "print(\" The Testscore:{:.5f} \".\\\n",
    "                format(roc_auc_score(Y_test,  GridSearchModel.predict_proba(X_test)[:, 1])))"
   ]
  },
  {
   "cell_type": "markdown",
   "metadata": {},
   "source": [
    "The model has comparable scores between training and test so there is no signs of over fitting."
   ]
  },
  {
   "cell_type": "code",
   "execution_count": 126,
   "metadata": {},
   "outputs": [
    {
     "data": {
      "text/plain": [
       "<sklearn.metrics._plot.confusion_matrix.ConfusionMatrixDisplay at 0x1f44a3bbbe0>"
      ]
     },
     "execution_count": 126,
     "metadata": {},
     "output_type": "execute_result"
    },
    {
     "data": {
      "image/png": "[encoded data removed]",
      "text/plain": [
       "<Figure size 432x288 with 2 Axes>"
      ]
     },
     "metadata": {
      "needs_background": "light"
     },
     "output_type": "display_data"
    }
   ],
   "source": [
    "# Testing on validationSet\n",
    "Y_test_predicted = GridSearchModel.predict(X_test)\n",
    "cm = confusion_matrix(Y_test, Y_test_predicted)\n",
    "ConfusionMatrixDisplay(cm).plot()"
   ]
  },
  {
   "cell_type": "code",
   "execution_count": 127,
   "metadata": {},
   "outputs": [
    {
     "name": "stdout",
     "output_type": "stream",
     "text": [
      "Precision:0.48 and Recall0.00188 for this Model\n"
     ]
    }
   ],
   "source": [
    "print(\"Precision:{:.2f} and Recall{:.5f} for this Model\".format(precision_score(Y_test, Y_test_predicted),\\\n",
    "                                                        recall_score(Y_test, Y_test_predicted)))"
   ]
  },
  {
   "cell_type": "markdown",
   "metadata": {},
   "source": [
    "The Model has AUC score of 0.85 for both test and training sets How ever, at the default probability threshold of\n",
    "0.5, the precision and re-call score are not sasticfactory.\n",
    "\n",
    "To modify the probability threshold, we will plot the ROC curve and obtain the threshold that gives best true positive rate\n",
    "with least possibile true negative rate."
   ]
  },
  {
   "cell_type": "markdown",
   "metadata": {},
   "source": [
    "### Model Diagnostics"
   ]
  },
  {
   "cell_type": "code",
   "execution_count": 128,
   "metadata": {},
   "outputs": [
    {
     "data": {
      "text/plain": [
       "Text(0.5, 1.0, 'True Positive Curve')"
      ]
     },
     "execution_count": 128,
     "metadata": {},
     "output_type": "execute_result"
    },
    {
     "data": {
      "image/png": "[encoded data removed]",
      "text/plain": [
       "<Figure size 1440x720 with 3 Axes>"
      ]
     },
     "metadata": {
      "needs_background": "light"
     },
     "output_type": "display_data"
    }
   ],
   "source": [
    "fpr, tpr, thresholds = roc_curve(Y_test,  GridSearchModel.predict_proba(X_test)[:, 1])\n",
    "fig1 = plt.figure(figsize=(20,10))\n",
    "ax1 = fig1.add_subplot(2,2,1)\n",
    "ax2 = fig1.add_subplot(2,2,2)\n",
    "ax3 = fig1.add_subplot(2,2,3)\n",
    "ax1.scatter(x = fpr, y = tpr)\n",
    "ax1.set_xlabel(\"False Positive Rate\", weight='bold')\n",
    "ax1.set_ylabel(\"True Positive Rate\", weight='bold')\n",
    "ax1.set_title(\"ROC Curve\", weight='bold')\n",
    "ax2.scatter(x = thresholds, y = fpr)\n",
    "ax2.set_xlabel(\"Thresholds\", weight='bold')\n",
    "ax2.set_ylabel(\"False Positive Rate\", weight='bold')\n",
    "ax2.set_title(\"True Positive Curve\", weight='bold')\n",
    "ax3.scatter(x = thresholds, y = tpr)\n",
    "ax3.set_xlabel(\"Thresholds\", weight='bold')\n",
    "ax3.set_ylabel(\"True Positive Rate\", weight='bold')\n",
    "ax2.set_title(\"True Positive Curve\", weight='bold')"
   ]
  },
  {
   "cell_type": "markdown",
   "metadata": {},
   "source": [
    "The goal of machine learning model is to balance between True positive rate and false positive rate. As true positive rate\n",
    "increases,which is desired, the false positive rate increases too. So we should determine the threshold that maximizes True \n",
    "positive rate with the least false positive rate. \n",
    "\n",
    "The ROC surve is flattening at FPR of 0.4. This means 40% of label zero will be labelled as positive. Given that this is a lead\n",
    "priorotisation model, this threshold eliminaated 60% of the leads while ensuring that all the potential conversions are captured."
   ]
  },
  {
   "cell_type": "code",
   "execution_count": 129,
   "metadata": {},
   "outputs": [
    {
     "data": {
      "text/plain": [
       "Text(0.5, 1.0, 'True Positive Curve')"
      ]
     },
     "execution_count": 129,
     "metadata": {},
     "output_type": "execute_result"
    },
    {
     "data": {
      "image/png": "[encoded data removed]",
      "text/plain": [
       "<Figure size 1440x720 with 3 Axes>"
      ]
     },
     "metadata": {
      "needs_background": "light"
     },
     "output_type": "display_data"
    }
   ],
   "source": [
    "# Exploring Thresholds below 0.2 for more focused TPR and FPR.\n",
    "\n",
    "fpr, tpr, thresholds = roc_curve(Y_test,  GridSearchModel.predict_proba(X_test)[:, 1])\n",
    "df_performance  = pd.DataFrame({'FalsePositiveRate':fpr, 'TruePositiveRate':tpr, 'Thresholds':thresholds})\n",
    "df_performance = df_performance[df_performance[\"Thresholds\"].between(0,0.2)]\n",
    "fig1 = plt.figure(figsize=(20,10))\n",
    "ax1 = fig1.add_subplot(2,2,1)\n",
    "ax2 = fig1.add_subplot(2,2,2)\n",
    "ax3 = fig1.add_subplot(2,2,3)\n",
    "ax1.scatter(x = df_performance[\"FalsePositiveRate\"], y = df_performance[\"TruePositiveRate\"])\n",
    "ax1.set_xlabel(\"False Positive Rate\", weight='bold')\n",
    "ax1.set_ylabel(\"True Positive Rate\", weight='bold')\n",
    "ax1.set_title(\"ROC Curve\", weight='bold')\n",
    "ax2.scatter(x = df_performance[\"Thresholds\"], y = df_performance[\"FalsePositiveRate\"], )\n",
    "ax2.set_xlabel(\"Thresholds\", weight='bold')\n",
    "ax2.set_ylabel(\"False Positive Rate\", weight='bold')\n",
    "ax2.set_title(\"True Positive Curve\", weight='bold')\n",
    "ax3.scatter(x = df_performance[\"Thresholds\"], y = df_performance[\"TruePositiveRate\"], )\n",
    "ax3.set_xlabel(\"Thresholds\", weight='bold')\n",
    "ax3.set_ylabel(\"True Positive Rate\", weight='bold')\n",
    "ax2.set_title(\"True Positive Curve\", weight='bold')"
   ]
  },
  {
   "cell_type": "markdown",
   "metadata": {},
   "source": [
    "Looking closely, we find that at threshold of 0.075, the False positive rate is 0.4 and 0.97 True positive rate. We will \n",
    "this as threshold for classifier and look at the confusion matrix."
   ]
  },
  {
   "cell_type": "code",
   "execution_count": 130,
   "metadata": {},
   "outputs": [],
   "source": [
    "Y_predicted_probability = GridSearchModel.predict_proba(X_test)[:, 1]\n",
    "Y_pred_Threshold_new = np.where(Y_predicted_probability>=0.075,1, 0)"
   ]
  },
  {
   "cell_type": "code",
   "execution_count": 131,
   "metadata": {},
   "outputs": [
    {
     "data": {
      "text/plain": [
       "<sklearn.metrics._plot.confusion_matrix.ConfusionMatrixDisplay at 0x1f4446fc5e0>"
      ]
     },
     "execution_count": 131,
     "metadata": {},
     "output_type": "execute_result"
    },
    {
     "data": {
      "image/png": "[encoded data removed]",
      "text/plain": [
       "<Figure size 432x288 with 2 Axes>"
      ]
     },
     "metadata": {
      "needs_background": "light"
     },
     "output_type": "display_data"
    }
   ],
   "source": [
    "cm = confusion_matrix(Y_test, Y_pred_Threshold_new)\n",
    "ConfusionMatrixDisplay(cm).plot()"
   ]
  }
 ],
 "metadata": {
  "kernelspec": {
   "display_name": "Python 3",
   "language": "python",
   "name": "python3"
  },
  "language_info": {
   "codemirror_mode": {
    "name": "ipython",
    "version": 3
   },
   "file_extension": ".py",
   "mimetype": "text/x-python",
   "name": "python",
   "nbconvert_exporter": "python",
   "pygments_lexer": "ipython3",
   "version": "3.8.5"
  }
 },
 "nbformat": 4,
 "nbformat_minor": 4
}
